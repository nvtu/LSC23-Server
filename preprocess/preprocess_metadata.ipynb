{
 "cells": [
  {
   "cell_type": "code",
   "execution_count": 3,
   "metadata": {},
   "outputs": [],
   "source": [
    "import os\n",
    "import pandas as pd\n",
    "import glob"
   ]
  },
  {
   "cell_type": "code",
   "execution_count": 4,
   "metadata": {},
   "outputs": [],
   "source": [
    "# Data paths\n",
    "data_folder_path = '/mnt/DATA/duyen/highres/LSC23'\n",
    "metadata_path = os.path.join(data_folder_path, 'lsc22_metadata.csv')\n",
    "visual_concept_path = os.path.join(data_folder_path, 'lsc22_visual_concepts.csv')\n",
    "gps_data_path = os.path.join(data_folder_path, 'vaisl_gps.csv')\n",
    "\n",
    "# Load data\n",
    "metadata = pd.read_csv(metadata_path, low_memory=False)\n",
    "vc_data = pd.read_csv(visual_concept_path, low_memory=False)\n",
    "gps_data = pd.read_csv(gps_data_path, low_memory=False)"
   ]
  },
  {
   "cell_type": "code",
   "execution_count": 9,
   "metadata": {},
   "outputs": [],
   "source": [
    "image_folder_path = os.path.join(data_folder_path, 'LSC23_highres_images')\n",
    "x = [] \n",
    "for file in glob.glob(os.path.join(image_folder_path, '**', '*.jpg'), recursive=True):\n",
    "    x.append(file)\n",
    "# print(glob.glob(os.path.join(image_folder_path, '*.jpg')))"
   ]
  },
  {
   "cell_type": "code",
   "execution_count": null,
   "metadata": {},
   "outputs": [],
   "source": []
  }
 ],
 "metadata": {
  "kernelspec": {
   "display_name": "LSC",
   "language": "python",
   "name": "python3"
  },
  "language_info": {
   "codemirror_mode": {
    "name": "ipython",
    "version": 3
   },
   "file_extension": ".py",
   "mimetype": "text/x-python",
   "name": "python",
   "nbconvert_exporter": "python",
   "pygments_lexer": "ipython3",
   "version": "3.10.9"
  },
  "orig_nbformat": 4
 },
 "nbformat": 4,
 "nbformat_minor": 2
}
